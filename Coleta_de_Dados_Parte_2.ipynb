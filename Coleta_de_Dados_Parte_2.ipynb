{
  "nbformat": 4,
  "nbformat_minor": 0,
  "metadata": {
    "colab": {
      "provenance": [],
      "toc_visible": true,
      "authorship_tag": "ABX9TyMyS51QOp4PvQX8kKnXE7mD",
      "include_colab_link": true
    },
    "kernelspec": {
      "name": "python3",
      "display_name": "Python 3"
    },
    "language_info": {
      "name": "python"
    }
  },
  "cells": [
    {
      "cell_type": "markdown",
      "metadata": {
        "id": "view-in-github",
        "colab_type": "text"
      },
      "source": [
        "<a href=\"https://colab.research.google.com/github/r-hugoalves/Coleta_de_Dados/blob/master/Coleta_de_Dados_Parte_2.ipynb\" target=\"_parent\"><img src=\"https://colab.research.google.com/assets/colab-badge.svg\" alt=\"Open In Colab\"/></a>"
      ]
    },
    {
      "cell_type": "markdown",
      "source": [
        "# Coleta de Dados - Parte 2"
      ],
      "metadata": {
        "id": "kdAVg-VFmHJA"
      }
    },
    {
      "cell_type": "markdown",
      "source": [
        "## 1.Web Crawling"
      ],
      "metadata": {
        "id": "4AD3wVesmHum"
      }
    },
    {
      "cell_type": "markdown",
      "source": [
        "### **1.1 HTTP**"
      ],
      "metadata": {
        "id": "U7iX5dgxmJcR"
      }
    },
    {
      "cell_type": "markdown",
      "source": [
        "O HTTP (hypertext transfer protocol) é um protocolo de transferência de hipertexto (texto,imagens, vídeos, etc.). É o protocolo padrão de transferência de informação pela internet:\n",
        "\n",
        "`http://www.google.com/`\n",
        "\n",
        "**Cliente / Servidor** é a arquitetura da internet. Nela um cliente (navegador web, código Python,etc.) utiliza um método HTTP para interagir com um servidor(requisitar dados, enviar dados,etc.). O servidor, por sua vez, envia uma  resposta para o cliente com um código de retorno indicando se a interação ocorreu com sucesso.\n",
        "\n",
        "**Métodos** são as operações que podemos realizar com o protocolo para interagir com um servidor, você pode encontrar uma lista completa neste link. Os mais importantes são:\n",
        "\n",
        "* **GET**: Requisitar dados, (acessar uma página web, carregar o feed do instagram, etc.);\n",
        "* **POST**: Enviar dados (login, cadastro, mensagem whatsapp, tweet do Twitter).\n",
        "\n",
        "Códigos de retorno são as números de 0 a 1000 que recebemos como resposta do servidor ao realizar uma operação qualquer. Os mais importantes são:\n",
        "\n",
        "* Entre 200 e 299: Sucesso;\n",
        "* Entre 400 e 499: Erro do cliente;\n",
        "* Entre 500 e 599: Erro do servidor.\n",
        "\n",
        "Código 200 (sucesso) é o mais comum e o 404 (não encontrado) o mais famoso!"
      ],
      "metadata": {
        "id": "Lnryiy9wGnzW"
      }
    },
    {
      "cell_type": "markdown",
      "source": [
        "### **1.2 Pacotes requests**"
      ],
      "metadata": {
        "id": "gswz4JgxmJlN"
      }
    },
    {
      "cell_type": "markdown",
      "source": [
        "Pacote Pyhton para interagir com a web através do protocolo HTTP."
      ],
      "metadata": {
        "id": "4YWJclBrdNnI"
      }
    },
    {
      "cell_type": "code",
      "source": [
        "import requests \n",
        "\n",
        "print(requests.__version__)"
      ],
      "metadata": {
        "id": "QROZ6pHVdVfy"
      },
      "execution_count": null,
      "outputs": []
    },
    {
      "cell_type": "code",
      "source": [
        "from requests.exceptions import HTTPError\n",
        "\n",
        "conteudo = None\n",
        "URL = 'https://drive.google.com/'\n",
        "\n",
        "try:\n",
        "  resposta = requests.get(URL)\n",
        "  resposta.raise_for_status()\n",
        "except HTTPError as exc:\n",
        "  print(exc)\n",
        "else:\n",
        "  conteudo = resposta.text\n",
        "\n",
        "print(conteudo)"
      ],
      "metadata": {
        "id": "rXp50aoadkYh"
      },
      "execution_count": null,
      "outputs": []
    },
    {
      "cell_type": "markdown",
      "source": [
        "### **1.3 Web Crawl**"
      ],
      "metadata": {
        "id": "bAbwPy5BmJsZ"
      }
    },
    {
      "cell_type": "markdown",
      "source": [
        "Aplicação que interage com a web de forma automatizada, também conhecido como web spider ou bot. O pacote requests funciona bem para interaçõces simples (apenas métodos HTTP) já os pacotes selenium e scrapy permitem que você navegue pela internet.\n",
        "\n",
        "Web crawling é um tema que requer muito cuidado, em geral você precisa de\n",
        "autorização do website para acessá-lo automaticamente. Empresas que usam a\n",
        "tecnologia possuem departamento jurídicos dedicados ao assunto.\n",
        "\n",
        "A maioria dos sites fornece um arquivo chamado robots.txt informando\n",
        "como um web crawler pode interagir com a página."
      ],
      "metadata": {
        "id": "CoJs-K_AfItf"
      }
    },
    {
      "cell_type": "code",
      "source": [
        "import requests\n",
        "from requests.exceptions import HTTPError\n",
        "\n",
        "def crawl_website(url: str) -> str:\n",
        "  try:\n",
        "    resposta = requests.get(url)\n",
        "    resposta.raise_for_status()\n",
        "  except HTTPError as exc:\n",
        "    print(exc)\n",
        "  else:\n",
        "    return resposta.text\n",
        "\n",
        "URL = 'https://pt.wikipedia.org/robots.txt'\n",
        "\n",
        "conteudo = crawl_website(url=URL)\n",
        "print(conteudo)"
      ],
      "metadata": {
        "id": "7uVU3G8_gKiN"
      },
      "execution_count": null,
      "outputs": []
    },
    {
      "cell_type": "markdown",
      "source": [
        "## 2.Web Scraping"
      ],
      "metadata": {
        "id": "MBiYr1ZFmJ0r"
      }
    },
    {
      "cell_type": "markdown",
      "source": [
        "Extrair informações de um arquivo HTML"
      ],
      "metadata": {
        "id": "qm0TXL9LiqCv"
      }
    },
    {
      "cell_type": "markdown",
      "source": [
        "### **2.1 Formato HTML**"
      ],
      "metadata": {
        "id": "uYswFd2KmJ80"
      }
    },
    {
      "cell_type": "markdown",
      "source": [
        "Um arquivo texto semi-estruturado, organizado por tags."
      ],
      "metadata": {
        "id": "3vPM3H1iiwIa"
      }
    },
    {
      "cell_type": "code",
      "source": [
        "%%html\n",
        "<html>\n",
        "  <head>\n",
        "    <!-- metadata -->\n",
        "  </head>\n",
        "  <body>\n",
        "    <h3>Senhor dos Anéis</h3>\n",
        "    <p>Filmes:</p>\n",
        "    <ul>\n",
        "      <li><b>2001:</b> O Senhor dos Anéis: A Sociedade do Anel</li>\n",
        "      <li><b>2002:</b> O Senhor dos Anéis: As Duas Torres</li>\n",
        "      <li><b>2003:</b> O Senhor dos Anéis: O Retorno do Rei</li>\n",
        "    </ul>\n",
        "  </body>\n",
        "</html>"
      ],
      "metadata": {
        "id": "neiQYEJgi1Sy"
      },
      "execution_count": null,
      "outputs": []
    },
    {
      "cell_type": "code",
      "source": [
        "%%writefile lotr.html\n",
        "<html>\n",
        "  <head>\n",
        "    <!-- metadata -->\n",
        "  </head>\n",
        "  <body>\n",
        "    <h3>Senhor dos Anéis</h3>\n",
        "    <p>Filmes:</p>\n",
        "    <ol>\n",
        "      <li><b>2001:</b> O Senhor dos Anéis: A Sociedade do Anel</li>\n",
        "      <li><b>2002:</b> O Senhor dos Anéis: As Duas Torres</li>\n",
        "      <li><b>2003:</b> O Senhor dos Anéis: O Retorno do Rei</li>\n",
        "    </ol>\n",
        "  </body>\n",
        "</html>"
      ],
      "metadata": {
        "id": "CgfxiXw9jFLT"
      },
      "execution_count": null,
      "outputs": []
    },
    {
      "cell_type": "markdown",
      "source": [
        "### **2.2 Pacote beautifulsoup4**"
      ],
      "metadata": {
        "id": "tUwMksolmKD2"
      }
    },
    {
      "cell_type": "markdown",
      "source": [
        "Pacote python para extrair as informações de arquivos HTML."
      ],
      "metadata": {
        "id": "VS4jjVC0j-rP"
      }
    },
    {
      "cell_type": "code",
      "source": [
        "# Extração dos filmes e o ano de lançamento do arquivo lotr.html em um arquivo JSON\n",
        "\n",
        "from bs4 import BeautifulSoup\n",
        "\n",
        "pagina = BeautifulSoup(open('lotr.html', mode='r'), 'html.parser')\n",
        "\n",
        "#Extraindo as tags com as informações que precisamos\n",
        "filmes_li = pagina.find_all('li')\n",
        "\n",
        "#Tratando as tags que extraímos para ter a informação completa e limpa\n",
        "filmes = []\n",
        "\n",
        "for filmes_li in filmes_li:\n",
        "  filme = filmes_li.get_text()\n",
        "  ano = int(filme.split(sep=':')[0].strip())\n",
        "  titulo = ':'.join(filme.split(sep=':')[1:]).strip()\n",
        "  filmes.append({'ano': ano, 'titulo': titulo})\n",
        "\n",
        "for filme in filmes:\n",
        "  print(filme)"
      ],
      "metadata": {
        "id": "zcW6KYzskEo6"
      },
      "execution_count": null,
      "outputs": []
    },
    {
      "cell_type": "markdown",
      "source": [
        "### **2.3 Web Scrape**"
      ],
      "metadata": {
        "id": "L_FtA3VumKKb"
      }
    },
    {
      "cell_type": "code",
      "source": [
        "URL = 'https://en.wikipedia.org/wiki/Web_crawler'\n",
        "\n",
        "conteudo = crawl_website(url=URL)\n",
        "with open(file='wiki.html', mode='w', encoding='utf8') as arquivo:\n",
        "  arquivo.write(conteudo)"
      ],
      "metadata": {
        "id": "CVf1eWF50Uyt"
      },
      "execution_count": 14,
      "outputs": []
    },
    {
      "cell_type": "code",
      "source": [
        "from bs4 import BeautifulSoup\n",
        "\n",
        "pagina = BeautifulSoup(open('wiki.html', mode='r'), 'html.parser')\n",
        "\n",
        "texto = pagina.get_text()\n",
        "print(texto)"
      ],
      "metadata": {
        "id": "x1vp88rF0Y0z"
      },
      "execution_count": null,
      "outputs": []
    },
    {
      "cell_type": "code",
      "source": [
        "import re\n",
        "\n",
        "ocorrencias = len(re.findall('crawler', texto, re.IGNORECASE))\n",
        "print(ocorrencias)"
      ],
      "metadata": {
        "id": "8DjuDYzY0gWw"
      },
      "execution_count": null,
      "outputs": []
    },
    {
      "cell_type": "markdown",
      "source": [
        "## 3.Web API"
      ],
      "metadata": {
        "id": "W5sX4zLUmKSY"
      }
    },
    {
      "cell_type": "markdown",
      "source": [
        "### **3.1 Formato JSON**"
      ],
      "metadata": {
        "id": "xNhe2ap8mKZv"
      }
    },
    {
      "cell_type": "code",
      "source": [
        "%%writefile lotr.json\n",
        "[\n",
        "    {\n",
        "        \"ano\": 2001,\n",
        "        \"titulo\": \"O Senhor dos Anéis: A Sociedade do Anel\"\n",
        "    },\n",
        "    {\n",
        "        \"ano\": 2002,\n",
        "        \"titulo\": \"O Senhor dos Anéis: As Duas Torres\"\n",
        "    },\n",
        "    {\n",
        "        \"ano\": 2003,\n",
        "        \"titulo\": \"O Senhor dos Anéis: O Retorno do Rei\"\n",
        "    }\n",
        "]"
      ],
      "metadata": {
        "id": "VxpRtGn02o1H"
      },
      "execution_count": null,
      "outputs": []
    },
    {
      "cell_type": "markdown",
      "source": [
        "### **3.2 Pacote JSON**"
      ],
      "metadata": {
        "id": "wLFacrPMmKq4"
      }
    },
    {
      "cell_type": "markdown",
      "source": [
        "Pacote nativo do Python para interagir com dados no formato JSON"
      ],
      "metadata": {
        "id": "mGY4Nzc721wv"
      }
    },
    {
      "cell_type": "code",
      "source": [
        "#Arquivo JSON para dicionário no Python\n",
        "\n",
        "import json \n",
        "\n",
        "data = json.load(open(file='lotr.json', mode='r'))\n",
        "print(data)"
      ],
      "metadata": {
        "id": "bYXe-BfN3HR4"
      },
      "execution_count": null,
      "outputs": []
    },
    {
      "cell_type": "code",
      "source": [
        "#Dicionário Python para JSON\n",
        "\n",
        "import json\n",
        "\n",
        "data_json = json.dumps(data, indent=2, ensure_ascii=False)\n",
        "print(data_json)"
      ],
      "metadata": {
        "id": "RbZnfO7Y3TyP"
      },
      "execution_count": null,
      "outputs": []
    },
    {
      "cell_type": "markdown",
      "source": [
        "### **3.3 Web API**"
      ],
      "metadata": {
        "id": "qSwnfEbNmKx8"
      }
    },
    {
      "cell_type": "markdown",
      "source": [
        "Uma API (application programming interface) é uma interface de comunicação com uma aplicação no formato cliente/servidor. Uma REST API é uma API que segue o padrão HTTP e transfere dados (em geral) no formato JSON. APIs fechadas são pagas e exigem autenticação (via método HTTP POST). APIs abertas são gratuitas e podem exigir autenticação."
      ],
      "metadata": {
        "id": "v-cEWEB2HXKp"
      }
    },
    {
      "cell_type": "code",
      "source": [
        "import json\n",
        "import requests\n",
        "from requests.exceptions import HTTPError\n",
        "\n",
        "#Carregando o conteúdo\n",
        "conteudo = None\n",
        "URL = 'https://www2.cetip.com.br/ConsultarTaxaDi/ConsultarTaxaDICetip.aspx'\n",
        "\n",
        "try:\n",
        "  resposta = requests.get(URL)\n",
        "  resposta.raise_for_status()\n",
        "except HTTPError as exc:\n",
        "  print(exc)\n",
        "else:\n",
        "  conteudo = resposta.text\n",
        "\n",
        "#print(conteudo)\n",
        "#print(type(conteudo))\n",
        "\n",
        "#Transformando em um dicionário\n",
        "data = json.loads(conteudo)\n",
        "#print(data)\n",
        "\n",
        "#Tratando os dados para a extração da taxa\n",
        "cdi = float(data['taxa'].replace(',', '.'))\n",
        "print(cdi)"
      ],
      "metadata": {
        "id": "hR7XgB62HWrG"
      },
      "execution_count": null,
      "outputs": []
    },
    {
      "cell_type": "markdown",
      "source": [
        "## 4.Exercícios"
      ],
      "metadata": {
        "id": "c0Ka1E2PmLHJ"
      }
    },
    {
      "cell_type": "markdown",
      "source": [
        "Para os exercícios, foi criado um notebook específico que pode ser acessado clicando [aqui](https://colab.research.google.com/drive/1Ogh3uwm_q0cuTwkyJQsY90lFNE-87k8S?usp=sharing)"
      ],
      "metadata": {
        "id": "xWLQHT98KPQ_"
      }
    }
  ]
}
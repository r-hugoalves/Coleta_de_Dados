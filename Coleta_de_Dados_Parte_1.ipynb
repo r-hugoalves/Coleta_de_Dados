{
  "nbformat": 4,
  "nbformat_minor": 0,
  "metadata": {
    "colab": {
      "provenance": [],
      "toc_visible": true,
      "authorship_tag": "ABX9TyPQ+HRCaG4rYM/jvUxAb6yM",
      "include_colab_link": true
    },
    "kernelspec": {
      "name": "python3",
      "display_name": "Python 3"
    },
    "language_info": {
      "name": "python"
    }
  },
  "cells": [
    {
      "cell_type": "markdown",
      "metadata": {
        "id": "view-in-github",
        "colab_type": "text"
      },
      "source": [
        "<a href=\"https://colab.research.google.com/github/r-hugoalves/Coleta_de_Dados/blob/master/Coleta_de_Dados_Parte_1.ipynb\" target=\"_parent\"><img src=\"https://colab.research.google.com/assets/colab-badge.svg\" alt=\"Open In Colab\"/></a>"
      ]
    },
    {
      "cell_type": "markdown",
      "source": [
        "# Coleta de Dados - Parte 1"
      ],
      "metadata": {
        "id": "1PVT1nzWlyc7"
      }
    },
    {
      "cell_type": "markdown",
      "source": [
        "## Estrutura de dados"
      ],
      "metadata": {
        "id": "Pf_LpZa9lywt"
      }
    },
    {
      "cell_type": "markdown",
      "source": [
        "* **Não estruturado**: texto, imagem, áudio, etc.\n",
        "* **Semi estruturado**: HTML, JSON, etc.\n",
        "* **Estruturados**: tabelas, planilhas, etc."
      ],
      "metadata": {
        "id": "mb8-wLdrmrEx"
      }
    },
    {
      "cell_type": "markdown",
      "source": [
        "## 1.Arquivos CSV"
      ],
      "metadata": {
        "id": "1dICrUmMly7Q"
      }
    },
    {
      "cell_type": "markdown",
      "source": [
        "### **1.1 Formato**"
      ],
      "metadata": {
        "id": "NbijE7PalzGq"
      }
    },
    {
      "cell_type": "markdown",
      "source": [
        "Um arquivo **csv** é um tipo de arquivo de **texto** com uma estrutura específica (**estruturado**) para organizar os dados num formato tabular: \n",
        "*   **Linhas** são separadas pelo caracter de nova linha `'\\n'`, normalmente a primeira coluna é o cabeçalho (*header*);\n",
        "*   **Colunas** por um separador: `','` (mais comum), `';'`, etc."
      ],
      "metadata": {
        "id": "At6P4EYsnWLY"
      }
    },
    {
      "cell_type": "code",
      "source": [
        "%%writefile banco.csv\n",
        "age,job,marital,education,default,balance,housing,loan\n",
        "30,unemployed,married,primary,no,1787,no,no\n",
        "33,services,married,secondary,no,4789,yes,yes\n",
        "35,management,single,tertiary,no,1350,yes,no\n",
        "30,management,married,tertiary,no,1476,yes,yes\n",
        "59,blue-collar,married,secondary,no,0,yes,no\n",
        "35,management,single,tertiary,no,747,no,no\n",
        "36,self-employed,married,tertiary,no,307,yes,no\n",
        "39,technician,married,secondary,no,147,yes,no\n",
        "41,entrepreneur,married,tertiary,no,221,yes,no\n",
        "43,services,married,primary,no,-88,yes,yes"
      ],
      "metadata": {
        "id": "tSDZUaLInztV"
      },
      "execution_count": null,
      "outputs": []
    },
    {
      "cell_type": "code",
      "source": [
        "# Extraindo os valores da primeira coluna (idade) \n",
        "\n",
        "idades = []\n",
        "\n",
        "with open(file='./banco.csv', mode='r', encoding='utf8') as arquivo:\n",
        "  cabecalho = arquivo.readline().split(sep=',')\n",
        "  indice_idade = cabecalho.index('age')\n",
        "  linha = arquivo.readline()\n",
        "  while linha:\n",
        "    idade = linha.split(sep=',')[indice_idade]\n",
        "    idades.append(idade)\n",
        "    linha = arquivo.readline()\n",
        "\n",
        "print(idades)"
      ],
      "metadata": {
        "id": "J9yk3LHJn2uQ"
      },
      "execution_count": null,
      "outputs": []
    },
    {
      "cell_type": "markdown",
      "source": [
        "### **1.2 Pacote CSV**"
      ],
      "metadata": {
        "id": "whSYPDSylzP0"
      }
    },
    {
      "cell_type": "code",
      "source": [
        "# https://docs.python.org/3/library/csv.html\n",
        "\n",
        "# Extraindo os valores da coluna 'saldo'\n",
        "import csv\n",
        "\n",
        "saldos = None\n",
        "\n",
        "with open(file='./banco.csv', mode='r', encoding='utf8') as arquivo:\n",
        "  leitor_csv = csv.reader(arquivo, delimiter=',')\n",
        "  cabecalho = next(leitor_csv)\n",
        "  indice_saldo = cabecalho.index('balance')\n",
        "  saldos = [linha[indice_saldo] for linha in leitor_csv]\n",
        "\n",
        "print(saldos)   "
      ],
      "metadata": {
        "id": "knhbcRxVp1hk"
      },
      "execution_count": null,
      "outputs": []
    },
    {
      "cell_type": "markdown",
      "source": [
        "## 2.Arquivos de texto"
      ],
      "metadata": {
        "id": "Ww2fYKYBlzZk"
      }
    },
    {
      "cell_type": "markdown",
      "source": [
        "### **2.1 Formato**"
      ],
      "metadata": {
        "id": "TxmV2WWalzjP"
      }
    },
    {
      "cell_type": "markdown",
      "source": [
        "Um arquivo texto é um tipo de arquivo de texto sem uma estrutura definida (não estruturado)."
      ],
      "metadata": {
        "id": "4ZpT-GPCs9wv"
      }
    },
    {
      "cell_type": "code",
      "source": [
        "%%writefile nubank.txt\n",
        "Como você prefere falar com a gente?\n",
        "\n",
        "E-mail\n",
        "Tem alguma dúvida? Podemos te ajudar pelo nosso canal de email.\n",
        "meajuda@nubank.com.br\n",
        "\n",
        "Telefone\n",
        "Você pode ligar para o 0800 do Nubank a qualquer hora através do número abaixo.\n",
        "0800 608 6236\n",
        "\n",
        "Chat\n",
        "Precisa de uma ajuda agora? Entre em contato com nosso atendimento através do chat.\n",
        "Basta abrir o chat no app.\n",
        "\n",
        "Siga o @Nubank\n",
        "Saiba das novidades e receba dicas na nossas redes sociais e também na NuCommunity, a comunidade online oficial do Nubank.\n",
        "\n",
        "Imprensa\n",
        "Reunimos todas as informações para você aqui.\n",
        "press@nu.bank\n",
        "\n",
        "Ouvidoria\n",
        "Já conversou conosco e mesmo assim não\n",
        "conseguiu resolver o que precisava? Nossa\n",
        "Ouvidoria pode avaliar seu caso.\n",
        "0800 887 0463\n",
        "ouvidoria@nubank.com.br\n",
        "\n",
        "Atendemos em dias úteis das 9h às 18h\n",
        "(horário de São Paulo/SP).\n",
        "\n",
        "Parcerias\n",
        "Se você tem uma proposta de patrocínio, parceria\n",
        "ou publicidade, fale conosco por aqui: marketing@nubank.com.br"
      ],
      "metadata": {
        "colab": {
          "base_uri": "https://localhost:8080/"
        },
        "id": "byZRlAuktDVD",
        "outputId": "290955b2-c3b4-44ca-fda6-031f32cd11ff"
      },
      "execution_count": 7,
      "outputs": [
        {
          "output_type": "stream",
          "name": "stdout",
          "text": [
            "Writing nubank.txt\n"
          ]
        }
      ]
    },
    {
      "cell_type": "markdown",
      "source": [
        "### **2.2 Regex**"
      ],
      "metadata": {
        "id": "cSuMCpYSlzr_"
      }
    },
    {
      "cell_type": "markdown",
      "source": [
        "É um algoritmo de busca de padrões em strings e é implementado nativamente em diversas linguagens de programação.Mais informações neste [link](https://medium.com/javarevisited/7-best-regular-expression-courses-for-developers-to-learn-in-2021-9b8cb37bb3a5) \n",
        "\n",
        "Para testar o regex na ferramenta online clique neste [link](https://regexr.com/).\n",
        "\n",
        "```\n",
        "import re\n",
        "\n",
        "lista_padroes = re.findall('<string de busca>', texto)\n",
        "```\n"
      ],
      "metadata": {
        "id": "Wp1ablAvviYx"
      }
    },
    {
      "cell_type": "markdown",
      "source": [
        "* \\S+ encontra um sequencia de caracteres sem espaço;\n",
        "* @ encontra o caracter '@'\n",
        "* \\S+ encontra um sequencia de caracteres sem espaço"
      ],
      "metadata": {
        "id": "cN2cUEI52dET"
      }
    },
    {
      "cell_type": "code",
      "source": [
        "# Extrair e-mails de um arquivo de texto\n",
        "\n",
        "import re\n",
        "\n",
        "with open(file='./nubank.txt', mode='r', encoding='utf8') as arquivo:\n",
        "  texto = arquivo.read()\n",
        "\n",
        "emails_extraidos = re.findall('\\S+@\\S+', texto)\n",
        "print(emails_extraidos)"
      ],
      "metadata": {
        "colab": {
          "base_uri": "https://localhost:8080/"
        },
        "id": "qdrZp7efwCTQ",
        "outputId": "dcd792a1-83c2-4cd6-b086-b72938ad718e"
      },
      "execution_count": 9,
      "outputs": [
        {
          "output_type": "stream",
          "name": "stdout",
          "text": [
            "['meajuda@nubank.com.br', 'press@nu.bank', 'ouvidoria@nubank.com.br', 'marketing@nubank.com.br']\n"
          ]
        }
      ]
    },
    {
      "cell_type": "code",
      "source": [
        "# Escrevendo os e-mails em um arquivo CSV\n",
        "\n",
        "import csv \n",
        "\n",
        "with open(file='./emails-nubank.csv', mode='w', encoding='utf8') as arquivo:\n",
        "  escritor_csv = csv.writer(arquivo, delimiter=',')\n",
        "  escritor_csv.writerows([['email']] + list(map(lambda emails_extraido: [emails_extraido], emails_extraidos)))"
      ],
      "metadata": {
        "id": "Am6oAWw_1RCG"
      },
      "execution_count": 11,
      "outputs": []
    },
    {
      "cell_type": "markdown",
      "source": [
        "## 3.Arquivo Excel"
      ],
      "metadata": {
        "id": "dJhotiLclz48"
      }
    },
    {
      "cell_type": "code",
      "source": [
        "!wget --show-progress --continue -O \\./banco.xlsx \\https://raw.githubusercontent.com/andre-marcos-perez/\\ebac-course-utils/main/dataset/banco.xlsx"
      ],
      "metadata": {
        "id": "tOeRCbRr-E1r"
      },
      "execution_count": null,
      "outputs": []
    },
    {
      "cell_type": "markdown",
      "source": [
        "### **3.1 Pacote openpyxl**"
      ],
      "metadata": {
        "id": "8OJpDVf-l0Nm"
      }
    },
    {
      "cell_type": "markdown",
      "source": [
        "Pacote Python para interagir com planilhas excel. A documentação pode ser encontrada neste [link](https://openpyxl.readthedocs.io/en/stable/index.html)."
      ],
      "metadata": {
        "id": "3nxJuMVO-PGv"
      }
    },
    {
      "cell_type": "code",
      "source": [
        "# Média dos saldos\n",
        "\n",
        "from openpyxl import load_workbook\n",
        "\n",
        "planilhas = load_workbook(filename='./banco.xlsx')\n",
        "planilha = planilhas.active"
      ],
      "metadata": {
        "id": "ufyZ6dwm-OYO"
      },
      "execution_count": 15,
      "outputs": []
    },
    {
      "cell_type": "code",
      "source": [
        "saldos = []\n",
        "\n",
        "cabecalho = next(planilha.values)\n",
        "indice_saldo = cabecalho.index('balance')\n",
        "\n",
        "saldos = [linha[indice_saldo] for linha in planilha.values if linha[indice_saldo] != 'balance']\n",
        "\n",
        "print(saldos)"
      ],
      "metadata": {
        "id": "NxWs-wgN-4em"
      },
      "execution_count": null,
      "outputs": []
    },
    {
      "cell_type": "markdown",
      "source": [
        "## Exercícios"
      ],
      "metadata": {
        "id": "MzDXcx3Tl0Vl"
      }
    },
    {
      "cell_type": "markdown",
      "source": [
        "Para a resolução dos exercícios foi criado um notebook específico, que pode ser acessado [aqui](https://colab.research.google.com/drive/1j4FrgOjpACWC7K5_S0sE4MwchIUJXkIu?usp=sharing://)"
      ],
      "metadata": {
        "id": "b2NkJMnEFR-t"
      }
    }
  ]
}
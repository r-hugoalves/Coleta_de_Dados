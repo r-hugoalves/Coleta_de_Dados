{
  "nbformat": 4,
  "nbformat_minor": 0,
  "metadata": {
    "colab": {
      "provenance": [],
      "authorship_tag": "ABX9TyNlKNU3B045MHNMpIn+orXi",
      "include_colab_link": true
    },
    "kernelspec": {
      "name": "python3",
      "display_name": "Python 3"
    },
    "language_info": {
      "name": "python"
    }
  },
  "cells": [
    {
      "cell_type": "markdown",
      "metadata": {
        "id": "view-in-github",
        "colab_type": "text"
      },
      "source": [
        "<a href=\"https://colab.research.google.com/github/r-hugoalves/Coleta_de_Dados/blob/master/Exerc%C3%ADcios_Coleta_de_Dados_Parte_1.ipynb\" target=\"_parent\"><img src=\"https://colab.research.google.com/assets/colab-badge.svg\" alt=\"Open In Colab\"/></a>"
      ]
    },
    {
      "cell_type": "markdown",
      "source": [
        "# Exercícios: Coleta de Dados - Parte 1"
      ],
      "metadata": {
        "id": "mIxqsYP2FiYO"
      }
    },
    {
      "cell_type": "markdown",
      "source": [
        "Notebook específico para a resolução de exercícios. Todo o material teórico está [aqui](https://colab.research.google.com/drive/15vnewl6pKRQiuRBGC5Aer2ZtOPgiwKR6?usp=sharing)"
      ],
      "metadata": {
        "id": "ZzbOJI4VFkWZ"
      }
    },
    {
      "cell_type": "markdown",
      "source": [
        "## Preparando o ambiente"
      ],
      "metadata": {
        "id": "4L5ESwjaOSDV"
      }
    },
    {
      "cell_type": "markdown",
      "source": [
        "Vamos explorar dados de crédito presentes no arquivo `credito.xlsx` ([link](https://raw.githubusercontent.com/andre-marcos-perez/ebac-course-utils/develop/dataset/credito.xlsx)). \n",
        "\n",
        "Os dados estão no formato de **Excel** (XLSX) e contém informações sobre clientes de uma instituição financeira. Em especial, estamos interessados em explicar a segunda coluna, chamada de **default**, que indica se um cliente é adimplente (`default = 0`), ou inadimplente (`default = 1`), ou seja, queremos entender o porque um cliente deixa de honrar com suas dívidas baseado no comportamento de outros atributos, como salário, escolaridade e movimentação financeira. Uma descrição completa dos atributos está abaixo."
      ],
      "metadata": {
        "id": "qtMS4bEKOqHe"
      }
    },
    {
      "cell_type": "markdown",
      "source": [
        "| Coluna  | Descrição |\n",
        "| ------- | --------- |\n",
        "| id      | Número da conta |\n",
        "| default | Indica se o cliente é adimplente (0) ou inadimplente (1) |\n",
        "| idade   | --- |\n",
        "| sexo    | --- |\n",
        "| depedentes | --- |\n",
        "| escolaridade | --- |\n",
        "| estado_civil | --- |\n",
        "| salario_anual | Faixa do salario mensal multiplicado por 12 |\n",
        "| tipo_cartao | Categoria do cartao: blue, silver, gold e platinium |\n",
        "| meses_de_relacionamento | Quantidade de meses desde a abertura da conta |\n",
        "| qtd_produtos | Quantidade de produtos contratados |\n",
        "| iteracoes_12m | Quantidade de iteracoes com o cliente no último ano |\n",
        "| meses_inatico_12m | Quantidade de meses que o cliente ficou inativo no último ano |\n",
        "| limite_credito | Valor do limite do cartão de crédito |\n",
        "| valor_transacoes_12m | Soma total do valor das transações no cartão de crédito no último ano |\n",
        "| qtd_transacoes_12m | Quantidade total de transações no cartão de crédito no último ano |"
      ],
      "metadata": {
        "id": "Z4Lzjba8OzGc"
      }
    },
    {
      "cell_type": "code",
      "source": [
        "!wget --show-progress --continue -O ./credito.xlsx https://raw.githubusercontent.com/andre-marcos-perez/ebac-course-utils/main/dataset/credito.xlsx"
      ],
      "metadata": {
        "id": "gfC1rMH0OTul"
      },
      "execution_count": null,
      "outputs": []
    },
    {
      "cell_type": "markdown",
      "source": [
        "## Exercício 1\n",
        "\n"
      ],
      "metadata": {
        "id": "0d__6OefOVFq"
      }
    },
    {
      "cell_type": "markdown",
      "source": [
        "Utilizando o pacote Python `openpyxl` visto em aula, extraia os seguintes as colunas `id`, `sexo` e `idade` dos clientes inadimplentes (`default = 1`) e solteiros (`estado_civil = 'solteiro'`). Salves os dados extraídos no arquivo csv `credito.csv` separado por `;`\n",
        "\n",
        "**Dica:** O arquivo csv `credito.csv` deve ter 669 linhas, contando com o cabeçalho."
      ],
      "metadata": {
        "id": "r7pRVKutQxAa"
      }
    },
    {
      "cell_type": "code",
      "source": [
        "import csv \n",
        "from openpyxl import Workbook\n",
        "from openpyxl import load_workbook\n",
        "from openpyxl.worksheet.filters import (FilterColumn, Filters)\n",
        "\n",
        "planilhas = load_workbook(filename='./credito.xlsx')\n",
        "planilha = planilhas.active\n",
        "\n",
        "#Carregar uma segunda planilha em branco, pois é onde vamos salvar a planilha com os dados já filtrados\n",
        "planilhas2 = load_workbook(filename='./planilha_filtrada.xlsx')\n",
        "planilha2 = planilhas2.active\n",
        "\n",
        "#Aplicar o filtro nas colunas desejadas e adicionar na nova planilha\n",
        "for row in planilha.iter_rows():\n",
        "  if row[1].value == int(1) and row[6].value == 'solteiro':\n",
        "    planilha2.append((cell.value for cell in row))\n",
        "\n",
        "#Salvar as duas planilhas\n",
        "planilhas.save('./credito.xlsx')\n",
        "planilhas2.save('Nova_Planilha_Filtrada.xlsx')\n",
        "\n",
        "print('Finished')"
      ],
      "metadata": {
        "id": "GuxaD3m-HvTz"
      },
      "execution_count": null,
      "outputs": []
    },
    {
      "cell_type": "code",
      "source": [
        "#Extraindo as informações da nova planilha\n",
        "nova_planilha = load_workbook(filename='./Nova_Planilha_Filtrada.xlsx', data_only=True)\n",
        "new_sheet = nova_planilha.active\n",
        "\n",
        "valor_id = []\n",
        "valor_idade = []\n",
        "valor_sexo = []\n",
        "\n",
        "for cel in new_sheet['A']:\n",
        "  adicionar_id = valor_id.append(cel.value)\n",
        "\n",
        "for cel in new_sheet['C']:\n",
        "  adicionar_idade = valor_idade.append(cel.value)\n",
        "\n",
        "for cel in new_sheet['D']:\n",
        "  adicionar_sexo = valor_sexo.append(cel.value)\n",
        "\n",
        "#print(valor_id)\n",
        "#print(valor_idade)\n",
        "#print(valor_sexo)"
      ],
      "metadata": {
        "id": "fv4w723PB2dn"
      },
      "execution_count": null,
      "outputs": []
    },
    {
      "cell_type": "code",
      "source": [
        "#Escrevendo as informações em um arquivo CSV\n",
        "i = 1\n",
        "\n",
        "with open(file='./credito.csv', mode='w', encoding='utf8') as arquivo:\n",
        "  escritor_csv = csv.writer(arquivo, delimiter=';')\n",
        "  escritor_csv.writerow(['id', 'idade', 'sexo'])\n",
        "  for i in range(0, len(valor_id)):\n",
        "    escritor_csv.writerow([valor_id[i], valor_idade[i], valor_sexo[i]])\n",
        "    i = i+1\n",
        "\n",
        "print('Finalizado!')"
      ],
      "metadata": {
        "id": "ktu6Voj9N1Ka"
      },
      "execution_count": null,
      "outputs": []
    },
    {
      "cell_type": "markdown",
      "source": [
        "## Exercício 2"
      ],
      "metadata": {
        "id": "6o-glbUOOZ_H"
      }
    },
    {
      "cell_type": "markdown",
      "source": [
        "Utilizando o pacote Python `openpyxl` visto em aula, extraia os dados das colunas `escolaridade` e `tipo_cartao`, removendo duplicados. Com os dados, construa o dicionário Python `credito` com a seguinte estrutura:\n",
        "\n",
        "```python\n",
        "credito = {\n",
        "  'tipo_cartao': ['silver', 'blue', 'gold', 'platinum'],\n",
        "  'escolaridade': ['doutorado', 'mestrado', 'na', 'sem educacao formal', 'graduacao', 'ensino medio']\n",
        "}\n",
        "```\n",
        "\n",
        "Para finalizar, utilize o código abaixo para converter o dicionário `credito` no formato JSON:\n",
        "\n",
        "```python\n",
        "import json\n",
        "\n",
        "credito_json = json.dumps(credito, indent=4)\n",
        "print(credito_json)\n",
        "```\n",
        "\n",
        "**Dica:** A solução deve gerar o dicionário Python `credito` igual ao exemplo mas a ordem dos elementos pode variar tranquilamente.\n",
        "\n",
        "**Dica:** Uma excelente forma de remover elementos duplicados de uma lista é convertê-la para `set` e depois para `list` novamente."
      ],
      "metadata": {
        "id": "EGCRGAJsSYTx"
      }
    },
    {
      "cell_type": "code",
      "source": [
        "import json\n",
        "from openpyxl import Workbook\n",
        "from openpyxl import load_workbook\n",
        "\n",
        "planilhas = load_workbook(filename='./credito.xlsx')\n",
        "planilha = planilhas.active\n",
        "\n",
        "escolaridade = []\n",
        "tipo_cartao = []\n",
        "\n",
        "#Primeiro, vamos extrair as colunas das planilha em listas\n",
        "for row in planilha.iter_rows():\n",
        "   lista_escolaridade = escolaridade.append(row[5].value)\n",
        "   lista_tipo_cartao = tipo_cartao.append(row[8].value)\n",
        "\n",
        "#Agora, vamos fazer a conversão das listas para conjuntos, para remover os duplicados\n",
        "conjunto_escolaridade = set(escolaridade)\n",
        "conjunto_tipo_cartao = set(tipo_cartao)\n",
        "\n",
        "#Transformando de novo em lista\n",
        "nova_lista_escolaridade = list(conjunto_escolaridade)\n",
        "nova_lista_tipo_cartao = list(conjunto_tipo_cartao)\n",
        "\n",
        "#Removendo o primeiro elemento da lista, que é o título\n",
        "nova_lista_escolaridade.pop(0)\n",
        "nova_lista_tipo_cartao.pop(0)\n",
        "\n",
        "#print(nova_lista_escolaridade)\n",
        "#print(nova_lista_tipo_cartao)\n",
        "\n",
        "#Agora, vamos montar o dicionário, onde o segundo valor é uma lista com os valores sem repetição\n",
        "\n",
        "credito = {\n",
        "    'tipo_cartao': list(nova_lista_tipo_cartao),\n",
        "    'escolaridade': list(nova_lista_escolaridade)\n",
        "}\n",
        "\n",
        "#print(credito)\n",
        "\n",
        "#Por fim, vamos realizar a conversão para JSON\n",
        "credito_json = json.dumps(credito, indent=4)\n",
        "print(credito_json)"
      ],
      "metadata": {
        "id": "ENWXylS7Ob1l"
      },
      "execution_count": null,
      "outputs": []
    },
    {
      "cell_type": "markdown",
      "source": [
        "## Exercício 3"
      ],
      "metadata": {
        "id": "teBeVO11Ocbw"
      }
    },
    {
      "cell_type": "code",
      "source": [
        "%%writefile ebac.txt\n",
        "MÍDIAS SOCIAIS\n",
        "Instagram, Facebook, Youtube, LinkedIn \n",
        "\n",
        "CURSOS\n",
        "Software, Design, Marketing, Audiovisual, Programação & Data, Games\n",
        "\n",
        "WEBINARS\n",
        "Próximos, Anteriores\n",
        "\n",
        "SOBRE\n",
        "Sobre nós, Centro de carreiras, Vagas\n",
        "\n",
        "CONTATO\n",
        "WhatsApp +55 (11) 4200-2991\n",
        "Telefone +55 (11) 3030-3200\n",
        "\n",
        "BLOG\n",
        "Design, Audiovisual, Marketing"
      ],
      "metadata": {
        "id": "XIN11rHhOdkk"
      },
      "execution_count": null,
      "outputs": []
    },
    {
      "cell_type": "markdown",
      "source": [
        "Extraia os números de contato do arquivo texto `ebac.txt` e salve-os no arquivo csv `contato_ebac.csv` com o separador `;` no seguinte formato:\n",
        "\n",
        "```\n",
        "tipo;numero\n",
        "whatsapp;+551142002991\n",
        "telefone;+551130303200\n",
        "```"
      ],
      "metadata": {
        "id": "SZntmN7aShHT"
      }
    },
    {
      "cell_type": "code",
      "source": [
        "import csv\n",
        "\n",
        "#Extraindo os dados dos contatos\n",
        "with open(file='./ebac.txt', mode='r', encoding='utf8') as arquivo:\n",
        "  texto = arquivo.readlines()\n",
        "  contatos = str(texto[13:15]).rstrip('\\n').split(sep=',')\n",
        "  whatsapp = str(contatos[0].replace(\"'\",\" \" ).replace('[', ' ')).split(sep='+')\n",
        "  telefone = str(contatos[1].replace(\"'\",\" \" ).replace(']', ' ')).split(sep='+')\n",
        "\n",
        "print(whatsapp[1])\n",
        "print(telefone[1])\n",
        "\n",
        "#Salvando no arquivo csv\n",
        "with open(file='./contato_ebac.csv', mode='w', encoding='utf8') as arquivo:\n",
        "  escritor_csv = csv.writer(arquivo, delimiter=';')\n",
        "  escritor_csv.writerow(['tipo', 'numero'])\n",
        "  escritor_csv.writerow([whatsapp[0], whatsapp[1]])\n",
        "  escritor_csv.writerow([telefone[0], telefone[1]])\n",
        "    \n",
        "print('Finalizado!')"
      ],
      "metadata": {
        "id": "EkSJNWCf867V"
      },
      "execution_count": null,
      "outputs": []
    }
  ]
}
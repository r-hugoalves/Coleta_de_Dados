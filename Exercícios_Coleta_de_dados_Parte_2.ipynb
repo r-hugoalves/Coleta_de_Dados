{
  "nbformat": 4,
  "nbformat_minor": 0,
  "metadata": {
    "colab": {
      "provenance": [],
      "toc_visible": true,
      "authorship_tag": "ABX9TyOi5ucodNNvxg51IckYvUzn",
      "include_colab_link": true
    },
    "kernelspec": {
      "name": "python3",
      "display_name": "Python 3"
    },
    "language_info": {
      "name": "python"
    }
  },
  "cells": [
    {
      "cell_type": "markdown",
      "metadata": {
        "id": "view-in-github",
        "colab_type": "text"
      },
      "source": [
        "<a href=\"https://colab.research.google.com/github/r-hugoalves/Coleta_de_Dados/blob/master/Exerc%C3%ADcios_Coleta_de_dados_Parte_2.ipynb\" target=\"_parent\"><img src=\"https://colab.research.google.com/assets/colab-badge.svg\" alt=\"Open In Colab\"/></a>"
      ]
    },
    {
      "cell_type": "markdown",
      "source": [
        "#Exercícios: Coleta de Dados - Parte 2"
      ],
      "metadata": {
        "id": "YVkDtDATRqdw"
      }
    },
    {
      "cell_type": "markdown",
      "source": [
        "Notebook específico para a resolução de exercícios. Todo o material teórico se encontra [aqui](https://colab.research.google.com/drive/1OYNO0yLz2OE5e5Dg1h_vfRRQKryqeO1f?usp=sharing)"
      ],
      "metadata": {
        "id": "PNrAE5goRuB2"
      }
    },
    {
      "cell_type": "markdown",
      "source": [
        "## Exercício 1"
      ],
      "metadata": {
        "id": "f9Y9f6SCRqRT"
      }
    },
    {
      "cell_type": "markdown",
      "source": [
        "Utilize o pacote Python `requests` para fazer o download do conteúdo do arquivo `robots.txt` do site do IMDB e salve numa variável chamada `robots`, este é o link:\n",
        "\n",
        "```\n",
        "https://www.imdb.com/robots.txt\n",
        "```\n",
        "\n",
        "Com o conteúdo na variável `robots`, verifique se a palavra `top` ou `charts` está presente no conteúdo do texto. Se sim, imprima `True`, senão imprima `False`. "
      ],
      "metadata": {
        "id": "FJ9z0cA8aS4Q"
      }
    },
    {
      "cell_type": "code",
      "source": [
        "import requests\n",
        "from requests.exceptions import HTTPError\n",
        "\n",
        "site_imdb = 'https://www.imdb.com/robots.txt'\n",
        "\n",
        "#Extraindo o conteúdo do site\n",
        "try:\n",
        "  conteudo = requests.get(site_imdb)\n",
        "  conteudo.raise_for_status()\n",
        "except HTTPError as exc:\n",
        "  print(exc)\n",
        "else:\n",
        "  robots = conteudo.text\n",
        "\n",
        "print(robots)"
      ],
      "metadata": {
        "id": "GR8hJK7_zAxE"
      },
      "execution_count": null,
      "outputs": []
    },
    {
      "cell_type": "code",
      "source": [
        "#Verificando se as palavras top ou charts estão presentes no conteúdo\n",
        "\n",
        "def verificar_palavra(str: robots) -> bool:\n",
        "\n",
        "  buscar_palavra1 = robots.find('top')\n",
        "  buscar_palavra2 = robots.find('charts')\n",
        "\n",
        "  if buscar_palavra1 or buscar_palavra2 == -1:\n",
        "    return False\n",
        "  else:\n",
        "    return True"
      ],
      "metadata": {
        "id": "ABnWiKkz3U6-"
      },
      "execution_count": null,
      "outputs": []
    },
    {
      "cell_type": "code",
      "source": [
        "#Executando a função\n",
        "print(verificar_palavra(robots))"
      ],
      "metadata": {
        "id": "-k97BcWW3W1C"
      },
      "execution_count": null,
      "outputs": []
    },
    {
      "cell_type": "markdown",
      "source": [
        "## Exercício 2"
      ],
      "metadata": {
        "id": "58TGMa3VRqEv"
      }
    },
    {
      "cell_type": "markdown",
      "source": [
        "Utilize os pacotes Python `requests` e `beautifulsoup4` para extrair os 10 filmes mais populares do IMDB (titulo, ano e nota), este é o link:\n",
        "\n",
        "```\n",
        "https://www.imdb.com/chart/top/\n",
        "```\n",
        "\n",
        "Escreva os dados extraídos no arquivo csv `imdb.csv` separado por `;` no seguinte formato:\n",
        "\n",
        "```\n",
        "ranking;titulo;ano;nota\n",
        "1;The Shawshank Redemption;1994;9.2\n",
        "2;The Godfather;1972;9.1\n",
        "3;The Godfather: Part II;1974;9.0\n",
        "```"
      ],
      "metadata": {
        "id": "2Ut9SaqgaZSA"
      }
    },
    {
      "cell_type": "code",
      "source": [
        "import requests\n",
        "from requests.exceptions import HTTPError\n",
        "\n",
        "site_imdb = 'https://www.imdb.com/chart/top/'\n",
        "\n",
        "#Extraindo o conteúdo do site\n",
        "try:\n",
        "  conteudo = requests.get(site_imdb)\n",
        "  conteudo.raise_for_status()\n",
        "except HTTPError as exc:\n",
        "  print(exc)\n",
        "else:\n",
        "  lista_filmes = conteudo.text\n",
        "\n",
        "#print(lista_filmes)"
      ],
      "metadata": {
        "id": "9LYa0GJ1uzBd"
      },
      "execution_count": null,
      "outputs": []
    },
    {
      "cell_type": "code",
      "source": [
        "#Importando o BeautifulSoup\n",
        "from bs4 import BeautifulSoup\n",
        "\n",
        "pagina = BeautifulSoup(lista_filmes, 'html.parser')"
      ],
      "metadata": {
        "id": "Fea2ARXO4vY2"
      },
      "execution_count": null,
      "outputs": []
    },
    {
      "cell_type": "code",
      "source": [
        "#Extraindo o conteúdo\n",
        "conteudo_extraido = []\n",
        "\n",
        "tabela = pagina.find('table', {'class': 'chart'})\n",
        "\n",
        "for linha in tabela.find_all('tr'):\n",
        "  textos_coluna = list()\n",
        "  for coluna in linha.find_all('td'):\n",
        "    texto_coluna = coluna.get_text().strip().split('\\n')\n",
        "    textos_coluna += texto_coluna\n",
        "    #print(textos_coluna)\n",
        "    conteudo_extraido.append(textos_coluna)"
      ],
      "metadata": {
        "id": "ErShCtw_5cUc"
      },
      "execution_count": null,
      "outputs": []
    },
    {
      "cell_type": "code",
      "source": [
        "#Os dados estão quadruplicados na variável 'conteudo_extraido', por isso vamos limpar a informação\n",
        "listagem_limpa = []\n",
        "i = 0\n",
        "\n",
        "while i != len(conteudo_extraido):\n",
        "  listagem_limpa.append(conteudo_extraido[i])\n",
        "  i = i+5"
      ],
      "metadata": {
        "id": "Shq_I9-7cxXu"
      },
      "execution_count": null,
      "outputs": []
    },
    {
      "cell_type": "code",
      "source": [
        "#Escrevendo no arquivo CSV\n",
        "import csv\n",
        "\n",
        "with open(file='./imdb.csv', mode='w', encoding='utf8') as arquivo:\n",
        "  escritor_csv = csv.writer(arquivo, delimiter=';')\n",
        "  escritor_csv.writerow(['ranking', 'titulo', 'ano', 'nota'])\n",
        "\n",
        "  for i in range(0, len(listagem_limpa)):\n",
        "    #Conversão dos dados\n",
        "    conversao_listagem_limpa = str(listagem_limpa[i])\n",
        "    separador_listagem_limpa = conversao_listagem_limpa.replace('\"', \"'\").split(sep=\"',\")\n",
        "    \n",
        "    #Obtenção dos dados: ranking, titulo, ano e nota\n",
        "    ranking = separador_listagem_limpa[1]\n",
        "    titulo = separador_listagem_limpa[2]\n",
        "    ano = separador_listagem_limpa[3]\n",
        "    nota = separador_listagem_limpa[4]\n",
        "\n",
        "    escritor_csv.writerow([ranking, titulo, ano, nota])\n",
        "    i = i + 1\n",
        "\n",
        "print('Finalizado!')"
      ],
      "metadata": {
        "id": "rGcU8Sh2JA6p"
      },
      "execution_count": null,
      "outputs": []
    }
  ]
}